{
 "cells": [
  {
   "cell_type": "code",
   "execution_count": 20,
   "metadata": {},
   "outputs": [],
   "source": [
    "import tensorflow as tf\n",
    "from tensorflow.keras.models import Sequential, load_model\n",
    "from tensorflow.keras.layers import Conv2D, MaxPooling2D\n",
    "from tensorflow.keras.layers import Activation, Dropout, Flatten, Dense\n",
    "from tensorflow.keras.preprocessing.image import ImageDataGenerator\n",
    "\n",
    "import matplotlib.pyplot as plt"
   ]
  },
  {
   "cell_type": "code",
   "execution_count": 21,
   "metadata": {},
   "outputs": [],
   "source": [
    "def create_cnn(X_shape, dropout_rate):\n",
    "    model = Sequential()\n",
    "    model.add(Conv2D(32, (3,3), input_shape=X_shape))\n",
    "    model.add(Activation('relu'))\n",
    "    model.add(MaxPooling2D(pool_size=(2,2)))\n",
    "\n",
    "    model.add(Conv2D(32, (3,3)))\n",
    "    model.add(Activation('relu'))\n",
    "    model.add(MaxPooling2D(pool_size=(2,2)))\n",
    "\n",
    "    model.add(Conv2D(64, (3,3)))\n",
    "    model.add(Activation('relu'))\n",
    "    model.add(MaxPooling2D(pool_size=(2,2)))\n",
    "\n",
    "    model.add(Flatten())\n",
    "    model.add(Dense(64))\n",
    "    model.add(Activation('relu'))\n",
    "    model.add(Dropout(rate=dropout_rate))\n",
    "    \n",
    "    model.add(Dense(5)) # We have 5 classifications.\n",
    "    model.add(Activation('softmax'))\n",
    "    \n",
    "    model.compile(\n",
    "        loss='categorical_crossentropy', \n",
    "        optimizer='rmsprop', # Could also try 'sgd'\n",
    "        metrics=['accuracy']\n",
    "    )\n",
    "    \n",
    "    return model    "
   ]
  },
  {
   "cell_type": "code",
   "execution_count": 22,
   "metadata": {},
   "outputs": [],
   "source": [
    "# Parameters to set:\n",
    "X_shape = (288, 432, 3)\n",
    "dropout_rate = 0.5\n",
    "batch_size = 16"
   ]
  },
  {
   "cell_type": "code",
   "execution_count": 23,
   "metadata": {},
   "outputs": [
    {
     "name": "stdout",
     "output_type": "stream",
     "text": [
      "Found 413 images belonging to 5 classes.\n",
      "Found 177 images belonging to 5 classes.\n"
     ]
    }
   ],
   "source": [
    "# Set up data generators.\n",
    "\n",
    "train_augmenter = ImageDataGenerator(\n",
    "        rescale=1./255,\n",
    "        shear_range=0.2,\n",
    "        zoom_range=0.2,\n",
    "        horizontal_flip=True\n",
    ")\n",
    "\n",
    "train_generator = train_augmenter.flow_from_directory(\n",
    "    'spc_cnn/train',\n",
    "    target_size=(288, 432),\n",
    "    batch_size=batch_size,\n",
    "    class_mode='categorical')\n",
    "\n",
    "test_datagen = ImageDataGenerator(rescale=1./255).flow_from_directory(\n",
    "    'spc_cnn/test',\n",
    "    target_size=(288, 432),\n",
    "    batch_size=batch_size,\n",
    "    class_mode='categorical')"
   ]
  },
  {
   "cell_type": "code",
   "execution_count": 24,
   "metadata": {},
   "outputs": [],
   "source": [
    "cnn = create_cnn(X_shape, dropout_rate)"
   ]
  },
  {
   "cell_type": "code",
   "execution_count": null,
   "metadata": {},
   "outputs": [
    {
     "name": "stdout",
     "output_type": "stream",
     "text": [
      "WARNING:tensorflow:sample_weight modes were coerced from\n",
      "  ...\n",
      "    to  \n",
      "  ['...']\n",
      "WARNING:tensorflow:sample_weight modes were coerced from\n",
      "  ...\n",
      "    to  \n",
      "  ['...']\n",
      "Train for 25 steps, validate for 11 steps\n",
      "Epoch 1/50\n",
      "25/25 [==============================] - 43s 2s/step - loss: 1.7434 - accuracy: 0.3652 - val_loss: 1.2887 - val_accuracy: 0.4091\n",
      "Epoch 2/50\n",
      "25/25 [==============================] - 39s 2s/step - loss: 1.2880 - accuracy: 0.4207 - val_loss: 1.2865 - val_accuracy: 0.3977\n",
      "Epoch 3/50\n",
      "25/25 [==============================] - 42s 2s/step - loss: 1.4592 - accuracy: 0.4005 - val_loss: 1.2692 - val_accuracy: 0.4261\n",
      "Epoch 4/50\n",
      "25/25 [==============================] - 43s 2s/step - loss: 1.2348 - accuracy: 0.4307 - val_loss: 1.2761 - val_accuracy: 0.3977\n",
      "Epoch 5/50\n",
      "25/25 [==============================] - 42s 2s/step - loss: 1.2633 - accuracy: 0.4484 - val_loss: 1.2568 - val_accuracy: 0.4375\n",
      "Epoch 6/50\n",
      "25/25 [==============================] - 43s 2s/step - loss: 1.2074 - accuracy: 0.4282 - val_loss: 1.2422 - val_accuracy: 0.4773\n",
      "Epoch 7/50\n",
      "25/25 [==============================] - 42s 2s/step - loss: 1.1692 - accuracy: 0.4559 - val_loss: 1.2126 - val_accuracy: 0.4716\n",
      "Epoch 8/50\n",
      "25/25 [==============================] - 43s 2s/step - loss: 1.1502 - accuracy: 0.4710 - val_loss: 1.2682 - val_accuracy: 0.4830\n",
      "Epoch 9/50\n",
      "25/25 [==============================] - 42s 2s/step - loss: 1.1471 - accuracy: 0.4962 - val_loss: 1.1712 - val_accuracy: 0.4943\n",
      "Epoch 10/50\n",
      "25/25 [==============================] - 42s 2s/step - loss: 1.1399 - accuracy: 0.4987 - val_loss: 1.2071 - val_accuracy: 0.4943\n",
      "Epoch 11/50\n",
      "25/25 [==============================] - 45s 2s/step - loss: 1.0618 - accuracy: 0.5365 - val_loss: 1.1624 - val_accuracy: 0.5341\n",
      "Epoch 12/50\n",
      "25/25 [==============================] - 46s 2s/step - loss: 1.0509 - accuracy: 0.5164 - val_loss: 1.2252 - val_accuracy: 0.4886\n",
      "Epoch 13/50\n",
      "25/25 [==============================] - 43s 2s/step - loss: 1.0945 - accuracy: 0.5542 - val_loss: 1.1815 - val_accuracy: 0.5511\n",
      "Epoch 14/50\n",
      "16/25 [==================>...........] - ETA: 13s - loss: 1.0391 - accuracy: 0.5455"
     ]
    }
   ],
   "source": [
    "cnn.fit_generator(\n",
    "    train_generator,\n",
    "    steps_per_epoch=413 // batch_size,\n",
    "    epochs=50,\n",
    "    validation_data=test_datagen,\n",
    "    validation_steps=177 // batch_size\n",
    ")\n",
    "cnn.save_weights('cnn_models/first_try.h5')"
   ]
  },
  {
   "cell_type": "code",
   "execution_count": null,
   "metadata": {},
   "outputs": [],
   "source": [
    "model = load_model('cnn_models/first_model.h5')"
   ]
  },
  {
   "cell_type": "code",
   "execution_count": null,
   "metadata": {},
   "outputs": [],
   "source": [
    "cnn.history.history"
   ]
  },
  {
   "cell_type": "code",
   "execution_count": null,
   "metadata": {},
   "outputs": [],
   "source": []
  },
  {
   "cell_type": "code",
   "execution_count": null,
   "metadata": {},
   "outputs": [],
   "source": []
  },
  {
   "cell_type": "code",
   "execution_count": null,
   "metadata": {},
   "outputs": [],
   "source": []
  },
  {
   "cell_type": "code",
   "execution_count": null,
   "metadata": {},
   "outputs": [],
   "source": []
  },
  {
   "cell_type": "code",
   "execution_count": null,
   "metadata": {},
   "outputs": [],
   "source": []
  },
  {
   "cell_type": "code",
   "execution_count": null,
   "metadata": {},
   "outputs": [],
   "source": []
  },
  {
   "cell_type": "code",
   "execution_count": null,
   "metadata": {},
   "outputs": [],
   "source": []
  }
 ],
 "metadata": {
  "kernelspec": {
   "display_name": "Python 3",
   "language": "python",
   "name": "python3"
  },
  "language_info": {
   "codemirror_mode": {
    "name": "ipython",
    "version": 3
   },
   "file_extension": ".py",
   "mimetype": "text/x-python",
   "name": "python",
   "nbconvert_exporter": "python",
   "pygments_lexer": "ipython3",
   "version": "3.7.4"
  }
 },
 "nbformat": 4,
 "nbformat_minor": 4
}
