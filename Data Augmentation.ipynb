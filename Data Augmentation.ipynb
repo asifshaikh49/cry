{
 "cells": [
  {
   "cell_type": "code",
   "execution_count": 2,
   "metadata": {},
   "outputs": [],
   "source": [
    "import wave\n",
    "import librosa\n",
    "import numpy as np\n",
    "import matplotlib.pyplot as plt\n",
    "import os\n",
    "import glob\n",
    "import scipy\n",
    "import soundfile as sf"
   ]
  },
  {
   "cell_type": "code",
   "execution_count": 45,
   "metadata": {},
   "outputs": [],
   "source": [
    "class AudioAugmentation:\n",
    "    def read_audio_file(self, file_path):\n",
    "        data, sample_rate = sf.read(file_path)\n",
    "        return data, sample_rate\n",
    "    \n",
    "    def write_audio_file(self, file, data, sample_rate):\n",
    "        sf.write(file, data, sample_rate)\n",
    "        \n",
    "    def add_noise(self, data,noise_factor):\n",
    "        noise = np.random.randn(len(data))\n",
    "        augmented_data = data + noise_factor * noise\n",
    "        # Cast back to same data type\n",
    "        augmented_data = augmented_data.astype(type(data[0]))\n",
    "        return augmented_data\n",
    "    \n",
    "    def shift(self, data):\n",
    "        y_shift = data.copy()\n",
    "        timeshift_fac = 0.5 * 2 * (np.random.uniform() - 0.5)  # up to 20% of length\n",
    "        print(\"timeshift_fac = \", timeshift_fac)\n",
    "        start = int(y_shift.shape[0] * timeshift_fac)\n",
    "        print(start)\n",
    "        if (start > 0):\n",
    "            y = np.pad(y_shift,(start,0),mode='constant')[0:y_shift.shape[0]]\n",
    "        else:\n",
    "            y = np.pad(y_shift,(0,-start),mode='constant')[0:y_shift.shape[0]]\n",
    "        return y.T\n",
    "    \n",
    "    def stretch(self, y, rate=1):\n",
    "        input_length = len(data)\n",
    "        streching = data.copy()\n",
    "        streching = librosa.effects.time_stretch(streching.astype('float'), 1.1)\n",
    "        if len(streching) > input_length:\n",
    "            streching = streching[:input_length]\n",
    "        else:\n",
    "            streching = np.pad(streching, (0, max(0, input_length - len(streching))), \"constant\")\n",
    "        #data = librosa.effects.time_stretch(data, rate)\n",
    "        return streching"
   ]
  },
  {
   "cell_type": "code",
   "execution_count": null,
   "metadata": {},
   "outputs": [],
   "source": []
  },
  {
   "cell_type": "code",
   "execution_count": 51,
   "metadata": {},
   "outputs": [],
   "source": [
    "# Create a new instance from AudioAugmentation class\n",
    "aa = AudioAugmentation()"
   ]
  },
  {
   "cell_type": "code",
   "execution_count": 47,
   "metadata": {},
   "outputs": [
    {
     "name": "stdout",
     "output_type": "stream",
     "text": [
      "['03ADDCFB-354E-416D-BF32-260CF47F7060-1433658024-1.1-f-04-ti.wav', '06c4cfa2-7fa6-4fda-91a1-ea186a4acc64-1430029221058-1.7-f-26-ti.wav', '06c4cfa2-7fa6-4fda-91a1-ea186a4acc64-1430029237378-1.7-f-26-ti.wav', '06c4cfa2-7fa6-4fda-91a1-ea186a4acc64-1430029246453-1.7-f-26-ti.wav', '1309B82C-F146-46F0-A723-45345AFA6EA8-1430059864-1.0-f-04-ti.wav', '1309B82C-F146-46F0-A723-45345AFA6EA8-1431172241-1.0-f-48-ti.wav', '5B416CE8-2591-4531-9ADC-86D085B5D48B-1430144827-1.0-m-48-ti.wav', '79FF400A-97E2-4701-987D-C7C850D5523C-1430089487-1.0-f-48-ti.wav', '7A22229D-06C2-4AAA-9674-DE5DF1906B3A-1436891944-1.1-m-72-ti.wav', '7A22229D-06C2-4AAA-9674-DE5DF1906B3A-1436891957-1.1-m-72-ti.wav', 'B2AABCE0-1F62-4B57-B58A-308959ABDFE7-1437188751-1.1-m-26-ti.wav', 'B2AABCE0-1F62-4B57-B58A-308959ABDFE7-1437188766-1.1-m-26-ti.wav', 'b4c460d8-bd6b-4017-9bb8-2ae4ff0c5af1-1430418266487-1.7-f-26-ti.wav', 'C421C6FE-DFEE-4080-8AEA-848E7CE4756B-1430548384-1.0-m-26-ti.wav', 'C421C6FE-DFEE-4080-8AEA-848E7CE4756B-1430548393-1.0-f-26-ti.wav', 'C5127741-5897-468C-A543-7F1B72569F0E-1428333964-1.0-m-26-ti.wav', 'ca7d8d54-13cb-4060-8db4-90651b60c078-1434674792223-1.7-f-26-ti.wav', 'cecd525b-18fd-49e3-b2b9-dfb08b93ad95-1430110029205-1.7-m-26-ti.wav', 'D4665929-8695-4655-927F-63F09B2D4CB8-1430726940-1.0-f-26-ti.wav', 'd5abedab-9ed5-48d0-a83b-fc00c33d6d6b-1430079192907-1.7-f-04-ti.wav', 'd6cda191-4962-4308-9a36-46d5648a95ed-1431587887997-1.7-m-04-ti.wav', 'd6cda191-4962-4308-9a36-46d5648a95ed-1431587899682-1.7-m-04-ti.wav', 'd6cda191-4962-4308-9a36-46d5648a95ed-1431616581736-1.7-m-04-ti.wav', 'eea17285-4ab9-4d34-a2f5-55fc8c866ac6-1431887695278-1.7-f-26-ti.wav']\n"
     ]
    }
   ],
   "source": [
    "# Read and produce augmentation files\n",
    "list1 = os.listdir(\"raw_data/tired\")\n",
    "print(list1)"
   ]
  },
  {
   "cell_type": "code",
   "execution_count": 48,
   "metadata": {},
   "outputs": [
    {
     "name": "stdout",
     "output_type": "stream",
     "text": [
      "03ADDCFB-354E-416D-BF32-260CF47F7060-1433658024-1.1-f-04-ti.wav\n",
      "timeshift_fac =  -0.3356529282782813\n",
      "-18796\n",
      "06c4cfa2-7fa6-4fda-91a1-ea186a4acc64-1430029221058-1.7-f-26-ti.wav\n",
      "timeshift_fac =  -0.12036678450330707\n",
      "-6432\n",
      "06c4cfa2-7fa6-4fda-91a1-ea186a4acc64-1430029237378-1.7-f-26-ti.wav\n",
      "timeshift_fac =  0.026074971252265544\n",
      "1389\n",
      "06c4cfa2-7fa6-4fda-91a1-ea186a4acc64-1430029246453-1.7-f-26-ti.wav\n",
      "timeshift_fac =  -0.11516915863686283\n",
      "-6007\n",
      "1309B82C-F146-46F0-A723-45345AFA6EA8-1430059864-1.0-f-04-ti.wav\n",
      "timeshift_fac =  0.23648310611510814\n",
      "13243\n",
      "1309B82C-F146-46F0-A723-45345AFA6EA8-1431172241-1.0-f-48-ti.wav\n",
      "timeshift_fac =  -0.033758556641277915\n",
      "-1890\n",
      "5B416CE8-2591-4531-9ADC-86D085B5D48B-1430144827-1.0-m-48-ti.wav\n",
      "timeshift_fac =  -0.29032163869241034\n",
      "-16258\n",
      "79FF400A-97E2-4701-987D-C7C850D5523C-1430089487-1.0-f-48-ti.wav\n",
      "timeshift_fac =  0.26910280423039123\n",
      "15069\n",
      "7A22229D-06C2-4AAA-9674-DE5DF1906B3A-1436891944-1.1-m-72-ti.wav\n",
      "timeshift_fac =  -0.18476707567757822\n",
      "-10346\n",
      "7A22229D-06C2-4AAA-9674-DE5DF1906B3A-1436891957-1.1-m-72-ti.wav\n",
      "timeshift_fac =  0.46453650644365585\n",
      "26014\n",
      "B2AABCE0-1F62-4B57-B58A-308959ABDFE7-1437188751-1.1-m-26-ti.wav\n",
      "timeshift_fac =  0.48716726955471\n",
      "27281\n",
      "B2AABCE0-1F62-4B57-B58A-308959ABDFE7-1437188766-1.1-m-26-ti.wav\n",
      "timeshift_fac =  0.3561919266377611\n",
      "19946\n",
      "b4c460d8-bd6b-4017-9bb8-2ae4ff0c5af1-1430418266487-1.7-f-26-ti.wav\n",
      "timeshift_fac =  0.35691332121970865\n",
      "19758\n",
      "C421C6FE-DFEE-4080-8AEA-848E7CE4756B-1430548384-1.0-m-26-ti.wav\n",
      "timeshift_fac =  0.3942133921047368\n",
      "22075\n",
      "C421C6FE-DFEE-4080-8AEA-848E7CE4756B-1430548393-1.0-f-26-ti.wav\n",
      "timeshift_fac =  -0.024236094512810724\n",
      "-1357\n",
      "C5127741-5897-468C-A543-7F1B72569F0E-1428333964-1.0-m-26-ti.wav\n",
      "timeshift_fac =  -0.3980627656558302\n",
      "-22291\n",
      "ca7d8d54-13cb-4060-8db4-90651b60c078-1434674792223-1.7-f-26-ti.wav\n",
      "timeshift_fac =  -0.3028849130238277\n",
      "-16428\n",
      "cecd525b-18fd-49e3-b2b9-dfb08b93ad95-1430110029205-1.7-m-26-ti.wav\n",
      "timeshift_fac =  -0.39702732870121915\n",
      "-22042\n",
      "D4665929-8695-4655-927F-63F09B2D4CB8-1430726940-1.0-f-26-ti.wav\n",
      "timeshift_fac =  -0.43077048691065944\n",
      "-24123\n",
      "d5abedab-9ed5-48d0-a83b-fc00c33d6d6b-1430079192907-1.7-f-04-ti.wav\n",
      "timeshift_fac =  -0.37392280915544474\n",
      "-20580\n",
      "d6cda191-4962-4308-9a36-46d5648a95ed-1431587887997-1.7-m-04-ti.wav\n",
      "timeshift_fac =  0.24232461185485243\n",
      "13221\n",
      "d6cda191-4962-4308-9a36-46d5648a95ed-1431587899682-1.7-m-04-ti.wav\n",
      "timeshift_fac =  -0.09027244239338883\n",
      "-4925\n",
      "d6cda191-4962-4308-9a36-46d5648a95ed-1431616581736-1.7-m-04-ti.wav\n",
      "timeshift_fac =  0.2950885124615624\n",
      "16147\n",
      "eea17285-4ab9-4d34-a2f5-55fc8c866ac6-1431887695278-1.7-f-26-ti.wav\n",
      "timeshift_fac =  -0.28272848285338015\n",
      "-15651\n"
     ]
    }
   ],
   "source": [
    "for file in list1:\n",
    "    if not file.startswith('.'):\n",
    "        print(file)\n",
    "        data, sr = aa.read_audio_file(\"raw_data/tired/\" + file)\n",
    "        # aa.plot_time_series(data)\n",
    "        # Adding noise to sound\n",
    "        data_noise = aa.add_noise(data,0.005)\n",
    "        # aa.plot_time_series(data_noise)\n",
    "        # Shifting the sound\n",
    "        data_roll = aa.shift(data)\n",
    "        # aa.plot_time_series(data_roll)\n",
    "        # Stretching the sound\n",
    "        data_stretch = aa.stretch(data, 0.8)\n",
    "        # aa.plot_time_series(data_stretch)\n",
    "        # Write generated sounds\n",
    "        aa.write_audio_file('baby cry/output/generated1_' + file, data_noise, sr)\n",
    "        aa.write_audio_file('baby cry/output/generated2_' + file, data_roll, sr)\n",
    "        aa.write_audio_file('baby cry/output/generated3_' + file, data_stretch, sr)"
   ]
  },
  {
   "cell_type": "code",
   "execution_count": 49,
   "metadata": {},
   "outputs": [
    {
     "name": "stdout",
     "output_type": "stream",
     "text": [
      "['10A40438-09AA-4A21-83B4-8119F03F7A11-1430925142-1.0-f-26-dc.wav', '11417AC2-DCC9-48CD-8177-CA8665E51B2F-1436881512-1.1-m-48-dc.wav', '1309B82C-F146-46F0-A723-45345AFA6EA8-1430703937-1.0-f-48-dc.wav', '1309B82C-F146-46F0-A723-45345AFA6EA8-1430704008-1.0-f-48-dc.wav', '1309B82C-F146-46F0-A723-45345AFA6EA8-1432801693-1.1-f-26-dc.wav', '1309B82C-F146-46F0-A723-45345AFA6EA8-1432801703-1.1-f-26-dc.wav', '2294E2B2-8E36-4DA6-A898-B947CB9446AB-1436462707-1.1-m-26-dc.wav', '64acb345-a61e-4ef3-a5a6-cf83c04b83f1-1430058990597-1.7-m-72-dc.wav', '64acb345-a61e-4ef3-a5a6-cf83c04b83f1-1430059012473-1.7-m-72-dc.wav', '665BDF6D-2897-49F9-8AD0-978B3B2A0468-1430530218-1.0-m-26-dc.wav', '79FF400A-97E2-4701-987D-C7C850D5523C-1430089621-1.0-f-48-dc.wav', '79FF400A-97E2-4701-987D-C7C850D5523C-1430089688-1.0-f-48-dc.wav', '7b0e160e-0505-459e-8ecb-304d7afae9d2-1437486974312-1.7-m-04-dc.wav', '837fd072-8704-4196-9ff1-1d2c07886e55-1432429478471-1.7-m-22-dc.wav', '999bf14b-e417-4b44-b746-9253f81efe38-1430844958178-1.7-m-04-ch.wav', '999bf14b-e417-4b44-b746-9253f81efe38-1430844979531-1.7-m-04-ch.wav', '999bf14b-e417-4b44-b746-9253f81efe38-1430844994519-1.7-m-04-ch.wav', '999bf14b-e417-4b44-b746-9253f81efe38-1430845018393-1.7-m-26-ch.wav', '999bf14b-e417-4b44-b746-9253f81efe38-1430845035663-1.7-m-26-ch.wav', 'a40b9b8d-e4bc-457a-badf-f38bdbc0c358-1430016981469-1.7-m-26-dc.wav', 'ae5a462b-5424-4b5b-82d5-07ccb61654ab-1431064345173-1.7-f-48-dc.wav', 'D1CB71F9-EF76-49B3-A703-41D557444D21-1436863419-1.1-f-26-dc.wav', 'd6cda191-4962-4308-9a36-46d5648a95ed-1426942891562-1.4-f-48-dc.wav', 'd6cda191-4962-4308-9a36-46d5648a95ed-1431086262776-1.7-m-04-ch.wav', 'd6cda191-4962-4308-9a36-46d5648a95ed-1431161889263-1.7-m-04-dc.wav', 'f258a8e2-92cd-4843-9da4-80ed26ec8e10-1436944996156-1.7-f-26-ch.wav', 'f5b29377-7cd6-4688-942c-5a07add39dc5-1437480263225-1.7-f-26-dc.wav']\n"
     ]
    }
   ],
   "source": [
    "# Read and produce augmentation files\n",
    "list2= os.listdir(\"raw_data/discomfort\")\n",
    "print(list2)"
   ]
  },
  {
   "cell_type": "code",
   "execution_count": 52,
   "metadata": {},
   "outputs": [
    {
     "name": "stdout",
     "output_type": "stream",
     "text": [
      "10A40438-09AA-4A21-83B4-8119F03F7A11-1430925142-1.0-f-26-dc.wav\n",
      "timeshift_fac =  -0.19592468841603483\n",
      "-10971\n",
      "11417AC2-DCC9-48CD-8177-CA8665E51B2F-1436881512-1.1-m-48-dc.wav\n",
      "timeshift_fac =  0.44655387671011193\n",
      "25007\n",
      "1309B82C-F146-46F0-A723-45345AFA6EA8-1430703937-1.0-f-48-dc.wav\n",
      "timeshift_fac =  -0.12152535431134348\n",
      "-6805\n",
      "1309B82C-F146-46F0-A723-45345AFA6EA8-1430704008-1.0-f-48-dc.wav\n",
      "timeshift_fac =  0.17135446249550612\n",
      "9595\n",
      "1309B82C-F146-46F0-A723-45345AFA6EA8-1432801693-1.1-f-26-dc.wav\n",
      "timeshift_fac =  -0.47177048278585465\n",
      "-26419\n",
      "1309B82C-F146-46F0-A723-45345AFA6EA8-1432801703-1.1-f-26-dc.wav\n",
      "timeshift_fac =  -0.18726628864842831\n",
      "-10486\n",
      "2294E2B2-8E36-4DA6-A898-B947CB9446AB-1436462707-1.1-m-26-dc.wav\n",
      "timeshift_fac =  -0.07903363796380347\n",
      "-4425\n",
      "64acb345-a61e-4ef3-a5a6-cf83c04b83f1-1430058990597-1.7-m-72-dc.wav\n",
      "timeshift_fac =  -0.188640823380686\n",
      "-10050\n",
      "64acb345-a61e-4ef3-a5a6-cf83c04b83f1-1430059012473-1.7-m-72-dc.wav\n",
      "timeshift_fac =  -0.19815655392191733\n",
      "-10589\n",
      "665BDF6D-2897-49F9-8AD0-978B3B2A0468-1430530218-1.0-m-26-dc.wav\n",
      "timeshift_fac =  0.29347586342766774\n",
      "16434\n",
      "79FF400A-97E2-4701-987D-C7C850D5523C-1430089621-1.0-f-48-dc.wav\n",
      "timeshift_fac =  -0.48997746300501377\n",
      "-27438\n",
      "79FF400A-97E2-4701-987D-C7C850D5523C-1430089688-1.0-f-48-dc.wav\n",
      "timeshift_fac =  0.4357878161245722\n",
      "24404\n",
      "7b0e160e-0505-459e-8ecb-304d7afae9d2-1437486974312-1.7-m-04-dc.wav\n",
      "timeshift_fac =  -0.43362777777343786\n",
      "-23936\n",
      "837fd072-8704-4196-9ff1-1d2c07886e55-1432429478471-1.7-m-22-dc.wav\n",
      "timeshift_fac =  -0.19148144900758357\n",
      "-10661\n",
      "999bf14b-e417-4b44-b746-9253f81efe38-1430844958178-1.7-m-04-ch.wav\n",
      "timeshift_fac =  -0.37500369346749785\n",
      "-20700\n",
      "999bf14b-e417-4b44-b746-9253f81efe38-1430844979531-1.7-m-04-ch.wav\n",
      "timeshift_fac =  0.21070082374104326\n",
      "11630\n",
      "999bf14b-e417-4b44-b746-9253f81efe38-1430844994519-1.7-m-04-ch.wav\n",
      "timeshift_fac =  -0.06575311505252557\n",
      "-3629\n",
      "999bf14b-e417-4b44-b746-9253f81efe38-1430845018393-1.7-m-26-ch.wav\n",
      "timeshift_fac =  0.03160583320657495\n",
      "1744\n",
      "999bf14b-e417-4b44-b746-9253f81efe38-1430845035663-1.7-m-26-ch.wav\n",
      "timeshift_fac =  0.1649648095181031\n",
      "9106\n",
      "a40b9b8d-e4bc-457a-badf-f38bdbc0c358-1430016981469-1.7-m-26-dc.wav\n",
      "timeshift_fac =  0.428025882660953\n",
      "23832\n",
      "ae5a462b-5424-4b5b-82d5-07ccb61654ab-1431064345173-1.7-f-48-dc.wav\n",
      "timeshift_fac =  0.17707100574161938\n",
      "9774\n",
      "D1CB71F9-EF76-49B3-A703-41D557444D21-1436863419-1.1-f-26-dc.wav\n",
      "timeshift_fac =  -0.0034842276147442064\n",
      "-195\n",
      "d6cda191-4962-4308-9a36-46d5648a95ed-1426942891562-1.4-f-48-dc.wav\n",
      "timeshift_fac =  -0.15926022418885522\n",
      "-8689\n",
      "d6cda191-4962-4308-9a36-46d5648a95ed-1431086262776-1.7-m-04-ch.wav\n",
      "timeshift_fac =  -0.2981097579758266\n",
      "-16312\n",
      "d6cda191-4962-4308-9a36-46d5648a95ed-1431161889263-1.7-m-04-dc.wav\n",
      "timeshift_fac =  0.2153396645665988\n",
      "11783\n",
      "f258a8e2-92cd-4843-9da4-80ed26ec8e10-1436944996156-1.7-f-26-ch.wav\n",
      "timeshift_fac =  -0.23903986642390618\n",
      "-12736\n",
      "f5b29377-7cd6-4688-942c-5a07add39dc5-1437480263225-1.7-f-26-dc.wav\n",
      "timeshift_fac =  0.22456954253943884\n",
      "12683\n"
     ]
    }
   ],
   "source": [
    "for file in list2:\n",
    "    if not file.startswith('.'):\n",
    "        print(file)\n",
    "        data, sr = aa.read_audio_file(\"raw_data/discomfort/\" + file)\n",
    "        # aa.plot_time_series(data)\n",
    "        # Adding noise to sound\n",
    "        data_noise = aa.add_noise(data,0.005)\n",
    "        # aa.plot_time_series(data_noise)\n",
    "        # Shifting the sound\n",
    "        data_roll = aa.shift(data)\n",
    "        # aa.plot_time_series(data_roll)\n",
    "        # Stretching the sound\n",
    "        data_stretch = aa.stretch(data, 0.8)\n",
    "        # aa.plot_time_series(data_stretch)\n",
    "        # Write generated sounds\n",
    "        aa.write_audio_file('baby cry/output/generated1_' + file, data_noise, sr)\n",
    "        aa.write_audio_file('baby cry/output/generated2_' + file, data_roll, sr)\n",
    "        aa.write_audio_file('baby cry/output/generated3_' + file, data_stretch, sr)"
   ]
  },
  {
   "cell_type": "code",
   "execution_count": 54,
   "metadata": {},
   "outputs": [
    {
     "name": "stdout",
     "output_type": "stream",
     "text": [
      "['5afc6a14-a9d8-45f8-b31d-c79dd87cc8c6-1430757039803-1.7-m-48-bu.wav', '79FF400A-97E2-4701-987D-C7C850D5523C-1430089648-1.0-f-48-bu.wav', '7A864194-4B6B-4850-ABBF-0C2A8170107B-1436846915-1.1-f-26-bu.wav', '7E4B9C14-F955-4BED-9B03-7F3096A6CBFF-1430232208-1.0-f-26-bu.wav', '7E4B9C14-F955-4BED-9B03-7F3096A6CBFF-1430540826-1.0-f-26-bu.wav', 'AEA8AE04-D00E-48A7-8A0B-6D87E2175121-1430563241-1.0-f-72-bu.wav', 'af30880e-5f98-4dc0-b37a-be6b21fa0ba3-1431240072536-1.7-m-26-bu.wav', 'F24DE44B-762C-4149-AC92-96A5E57ED118-1430816949-1.0-m-04-bu.wav']\n"
     ]
    }
   ],
   "source": [
    "# Read and produce augmentation files\n",
    "list3= os.listdir(\"raw_data/burping\")\n",
    "print(list3)"
   ]
  },
  {
   "cell_type": "code",
   "execution_count": 56,
   "metadata": {},
   "outputs": [
    {
     "name": "stdout",
     "output_type": "stream",
     "text": [
      "5afc6a14-a9d8-45f8-b31d-c79dd87cc8c6-1430757039803-1.7-m-48-bu.wav\n",
      "timeshift_fac =  -0.22435907855583426\n",
      "-11953\n",
      "79FF400A-97E2-4701-987D-C7C850D5523C-1430089648-1.0-f-48-bu.wav\n",
      "timeshift_fac =  0.0637177162500947\n",
      "3568\n",
      "7A864194-4B6B-4850-ABBF-0C2A8170107B-1436846915-1.1-f-26-bu.wav\n",
      "timeshift_fac =  0.38566934932257135\n",
      "21597\n",
      "7E4B9C14-F955-4BED-9B03-7F3096A6CBFF-1430232208-1.0-f-26-bu.wav\n",
      "timeshift_fac =  0.42467818931586154\n",
      "23781\n",
      "7E4B9C14-F955-4BED-9B03-7F3096A6CBFF-1430540826-1.0-f-26-bu.wav\n",
      "timeshift_fac =  0.3768068652178832\n",
      "21101\n",
      "AEA8AE04-D00E-48A7-8A0B-6D87E2175121-1430563241-1.0-f-72-bu.wav\n",
      "timeshift_fac =  -0.1589150638415444\n",
      "-8899\n",
      "af30880e-5f98-4dc0-b37a-be6b21fa0ba3-1431240072536-1.7-m-26-bu.wav\n",
      "timeshift_fac =  0.24900767317288264\n",
      "13028\n",
      "F24DE44B-762C-4149-AC92-96A5E57ED118-1430816949-1.0-m-04-bu.wav\n",
      "timeshift_fac =  -0.1722505004412641\n",
      "-9646\n"
     ]
    }
   ],
   "source": [
    "for file in list3:\n",
    "    if not file.startswith('.'):\n",
    "        print(file)\n",
    "        data, sr = aa.read_audio_file(\"raw_data/burping/\" + file)\n",
    "        # aa.plot_time_series(data)\n",
    "        # Adding noise to sound\n",
    "        data_noise = aa.add_noise(data,0.005)\n",
    "        # aa.plot_time_series(data_noise)\n",
    "        # Shifting the sound\n",
    "        data_roll = aa.shift(data)\n",
    "        # aa.plot_time_series(data_roll)\n",
    "        # Stretching the sound\n",
    "        data_stretch = aa.stretch(data, 0.8)\n",
    "        # aa.plot_time_series(data_stretch)\n",
    "        # Write generated sounds\n",
    "        aa.write_audio_file('baby cry/output/generated1_' + file, data_noise, sr)\n",
    "        aa.write_audio_file('baby cry/output/generated2_' + file, data_roll, sr)\n",
    "        aa.write_audio_file('baby cry/output/generated3_' + file, data_stretch, sr)"
   ]
  },
  {
   "cell_type": "code",
   "execution_count": 58,
   "metadata": {},
   "outputs": [
    {
     "name": "stdout",
     "output_type": "stream",
     "text": [
      "['549a46d8-9c84-430e-ade8-97eae2bef787-1430130772174-1.7-m-48-bp.wav', '643D64AD-B711-469A-AF69-55C0D5D3E30F-1430138495-1.0-m-72-bp.wav', '643D64AD-B711-469A-AF69-55C0D5D3E30F-1430138506-1.0-m-72-bp.wav', '643D64AD-B711-469A-AF69-55C0D5D3E30F-1430138514-1.0-m-72-bp.wav', '643D64AD-B711-469A-AF69-55C0D5D3E30F-1430138524-1.0-m-72-bp.wav', '643D64AD-B711-469A-AF69-55C0D5D3E30F-1430138536-1.0-m-72-bp.wav', '643D64AD-B711-469A-AF69-55C0D5D3E30F-1430138545-1.0-m-72-bp.wav', '643D64AD-B711-469A-AF69-55C0D5D3E30F-1430138591-1.0-m-72-bp.wav', '643D64AD-B711-469A-AF69-55C0D5D3E30F-1430138647-1.0-m-72-bp.wav', '69BDA5D6-0276-4462-9BF7-951799563728-1436936185-1.1-m-26-bp.wav', '999bf14b-e417-4b44-b746-9253f81efe38-1430974001343-1.7-m-26-bp.wav', 'ae5f103b-5fee-442f-bb1b-d9d0570c46ab-1431533857965-1.7-m-26-bp.wav', 'C421C6FE-DFEE-4080-8AEA-848E7CE4756B-1430548333-1.0-f-26-bp.wav', 'd6cda191-4962-4308-9a36-46d5648a95ed-1431159262344-1.7-m-04-bp.wav', 'd6cda191-4962-4308-9a36-46d5648a95ed-1431159272600-1.7-m-04-bp.wav', 'd6cda191-4962-4308-9a36-46d5648a95ed-1431700390946-1.7-m-04-bp.wav']\n"
     ]
    }
   ],
   "source": [
    "# Read and produce augmentation files\n",
    "list4= os.listdir(\"raw_data/belly_pain\")\n",
    "print(list4)"
   ]
  },
  {
   "cell_type": "code",
   "execution_count": 60,
   "metadata": {},
   "outputs": [
    {
     "name": "stdout",
     "output_type": "stream",
     "text": [
      "549a46d8-9c84-430e-ade8-97eae2bef787-1430130772174-1.7-m-48-bp.wav\n",
      "timeshift_fac =  0.01803441476207701\n",
      "989\n",
      "643D64AD-B711-469A-AF69-55C0D5D3E30F-1430138495-1.0-m-72-bp.wav\n",
      "timeshift_fac =  0.1303314421459828\n",
      "7298\n",
      "643D64AD-B711-469A-AF69-55C0D5D3E30F-1430138506-1.0-m-72-bp.wav\n",
      "timeshift_fac =  -0.24546535029590544\n",
      "-13746\n",
      "643D64AD-B711-469A-AF69-55C0D5D3E30F-1430138514-1.0-m-72-bp.wav\n",
      "timeshift_fac =  -0.1887436546979564\n",
      "-10569\n",
      "643D64AD-B711-469A-AF69-55C0D5D3E30F-1430138524-1.0-m-72-bp.wav\n",
      "timeshift_fac =  -0.25353727172884755\n",
      "-14198\n",
      "643D64AD-B711-469A-AF69-55C0D5D3E30F-1430138536-1.0-m-72-bp.wav\n",
      "timeshift_fac =  0.4900926326524815\n",
      "27445\n",
      "643D64AD-B711-469A-AF69-55C0D5D3E30F-1430138545-1.0-m-72-bp.wav\n",
      "timeshift_fac =  0.4796767267983342\n",
      "26861\n",
      "643D64AD-B711-469A-AF69-55C0D5D3E30F-1430138591-1.0-m-72-bp.wav\n",
      "timeshift_fac =  -0.06971783779596952\n",
      "-3904\n",
      "643D64AD-B711-469A-AF69-55C0D5D3E30F-1430138647-1.0-m-72-bp.wav\n",
      "timeshift_fac =  -0.4348401219744299\n",
      "-24351\n",
      "69BDA5D6-0276-4462-9BF7-951799563728-1436936185-1.1-m-26-bp.wav\n",
      "timeshift_fac =  -0.2946234652235066\n",
      "-16498\n",
      "999bf14b-e417-4b44-b746-9253f81efe38-1430974001343-1.7-m-26-bp.wav\n",
      "timeshift_fac =  0.007384673935899033\n",
      "407\n",
      "ae5f103b-5fee-442f-bb1b-d9d0570c46ab-1431533857965-1.7-m-26-bp.wav\n",
      "timeshift_fac =  0.08839057518671356\n",
      "4921\n",
      "C421C6FE-DFEE-4080-8AEA-848E7CE4756B-1430548333-1.0-f-26-bp.wav\n",
      "timeshift_fac =  0.3239110972734228\n",
      "18139\n",
      "d6cda191-4962-4308-9a36-46d5648a95ed-1431159262344-1.7-m-04-bp.wav\n",
      "timeshift_fac =  -0.48275309191223537\n",
      "-26339\n",
      "d6cda191-4962-4308-9a36-46d5648a95ed-1431159272600-1.7-m-04-bp.wav\n",
      "timeshift_fac =  -0.33409166644107946\n",
      "-18281\n",
      "d6cda191-4962-4308-9a36-46d5648a95ed-1431700390946-1.7-m-04-bp.wav\n",
      "timeshift_fac =  0.08278723963512824\n",
      "4530\n"
     ]
    }
   ],
   "source": [
    "for file in list4:\n",
    "    if not file.startswith('.'):\n",
    "        print(file)\n",
    "        data, sr = aa.read_audio_file(\"raw_data/belly_pain/\" + file)\n",
    "        # aa.plot_time_series(data)\n",
    "        # Adding noise to sound\n",
    "        data_noise = aa.add_noise(data,0.005)\n",
    "        # aa.plot_time_series(data_noise)\n",
    "        # Shifting the sound\n",
    "        data_roll = aa.shift(data)\n",
    "        # aa.plot_time_series(data_roll)\n",
    "        # Stretching the sound\n",
    "        data_stretch = aa.stretch(data, 0.8)\n",
    "        # aa.plot_time_series(data_stretch)\n",
    "        # Write generated sounds\n",
    "        aa.write_audio_file('baby cry/output/generated1_' + file, data_noise, sr)\n",
    "        aa.write_audio_file('baby cry/output/generated2_' + file, data_roll, sr)\n",
    "        aa.write_audio_file('baby cry/output/generated3_' + file, data_stretch, sr)"
   ]
  },
  {
   "cell_type": "code",
   "execution_count": null,
   "metadata": {},
   "outputs": [],
   "source": []
  }
 ],
 "metadata": {
  "kernelspec": {
   "display_name": "Python 3",
   "language": "python",
   "name": "python3"
  },
  "language_info": {
   "codemirror_mode": {
    "name": "ipython",
    "version": 3
   },
   "file_extension": ".py",
   "mimetype": "text/x-python",
   "name": "python",
   "nbconvert_exporter": "python",
   "pygments_lexer": "ipython3",
   "version": "3.7.4"
  }
 },
 "nbformat": 4,
 "nbformat_minor": 4
}
