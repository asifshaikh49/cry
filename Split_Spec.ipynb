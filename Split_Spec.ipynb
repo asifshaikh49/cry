{
 "cells": [
  {
   "cell_type": "code",
   "execution_count": 1,
   "metadata": {},
   "outputs": [],
   "source": [
    "import shutil\n",
    "import os\n",
    "import random"
   ]
  },
  {
   "cell_type": "code",
   "execution_count": 2,
   "metadata": {},
   "outputs": [],
   "source": [
    "fsrc = 'spec'\n",
    "fdst = 'spec_cnn'"
   ]
  },
  {
   "cell_type": "code",
   "execution_count": 3,
   "metadata": {},
   "outputs": [],
   "source": [
    "split = os.listdir(fdst)\n",
    "classes = os.listdir(fsrc)\n",
    "for s in split :\n",
    "    for classe in classes : \n",
    "        path = fdst+'/'+ s + '/'+ classe\n",
    "        os.mkdir(path)  "
   ]
  },
  {
   "cell_type": "code",
   "execution_count": 4,
   "metadata": {},
   "outputs": [
    {
     "name": "stdout",
     "output_type": "stream",
     "text": [
      "belly_pain   \t96\n",
      "burping      \t48\n",
      "discomfort   \t162\n",
      "hungry       \t140\n",
      "tired        \t144\n"
     ]
    }
   ],
   "source": [
    "classes = os.listdir(fsrc)\n",
    "for classe in classes:\n",
    "    filenames = os.listdir(fsrc+'/'+classe)\n",
    "    #shuffle randomy + seed the order of images\n",
    "    print(f'{classe:{13}}\\t{len(filenames)}') "
   ]
  },
  {
   "cell_type": "code",
   "execution_count": 6,
   "metadata": {},
   "outputs": [],
   "source": [
    "classes = os.listdir(fsrc)\n",
    "split = os.listdir(fdst)\n",
    "\n",
    "for classe in classes:\n",
    "    filenames = os.listdir(fsrc+'/'+classe)\n",
    "    random.shuffle(filenames)\n",
    "    random.seed(230)\n",
    "    trainsize = round(len(filenames)*0.9)\n",
    "    classsize  = len(filenames)\n",
    "    for f in range(0,trainsize) :\n",
    "        shutil.copy(fsrc+'/'+classe+'/'+filenames[f], fdst+'/train/'+classe)\n",
    "    for f in range(trainsize, classsize):\n",
    "        shutil.copy(fsrc+'/'+classe+'/'+filenames[f], fdst+'/test/'+classe)"
   ]
  },
  {
   "cell_type": "code",
   "execution_count": null,
   "metadata": {},
   "outputs": [],
   "source": []
  },
  {
   "cell_type": "code",
   "execution_count": null,
   "metadata": {},
   "outputs": [],
   "source": []
  },
  {
   "cell_type": "code",
   "execution_count": null,
   "metadata": {},
   "outputs": [],
   "source": []
  },
  {
   "cell_type": "code",
   "execution_count": null,
   "metadata": {},
   "outputs": [],
   "source": []
  }
 ],
 "metadata": {
  "kernelspec": {
   "display_name": "Python 3",
   "language": "python",
   "name": "python3"
  },
  "language_info": {
   "codemirror_mode": {
    "name": "ipython",
    "version": 3
   },
   "file_extension": ".py",
   "mimetype": "text/x-python",
   "name": "python",
   "nbconvert_exporter": "python",
   "pygments_lexer": "ipython3",
   "version": "3.7.4"
  }
 },
 "nbformat": 4,
 "nbformat_minor": 4
}
